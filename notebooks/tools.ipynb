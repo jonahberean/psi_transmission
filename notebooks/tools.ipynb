{
 "cells": [
  {
   "cell_type": "markdown",
   "metadata": {},
   "source": [
    "I'm working on learning python (and hopefully there are generalizations to other languages) development best practices. [I'm following this guide quite closely.](https://florianwilhelm.info/2018/11/working_efficiently_with_jupyter_lab/) Some excerpts I'm still wanting to address are copied below.\n",
    "\n",
    ">At that point after having only adhered to a single good practice, we already benefit from many advantages. Since we have nicely separated our notebook from the actual implementation, we can package and distribute our code by just calling python setup.py bdist_wheel and use twine to upload it to some artefact store like PyPI or devpi for internal-only use. Another big plus is that having a package allows us to collaboratively work on the source code in your package using Git. On the other hand using Git with notebooks is a big pain since it its format is not really designed to be human-readable and thus merge conflicts are a horror. Still we haven’t yet added any functionality, so let’s see how we do about that.\n",
    "\n",
    "This whole section should be examined in more detail:\n",
    "\n",
    ">6. Document your analysis\n",
    "\n",
    "This whole section should be examined in more detail:\n",
    "\n",
    ">7. State your dependencies for reproducibility\n",
    "\n",
    "In particular, a nice test would be to try and reproduce everything and the environment seamlessly on my laptop, or another UCN cluster machine, or even on Cedar. \n",
    "\n",
    "What is the most efficient and reproducable way of accessing the data? It should be stored somewhere that doesn't interact with git, but is automatically scp'd to your local given that you have access to the ucn cluster? Back on daq01 then? Will this be slow if it has to be done every time you run something? It's an interesting question for best practices."
   ]
  },
  {
   "cell_type": "code",
   "execution_count": null,
   "metadata": {},
   "outputs": [],
   "source": []
  }
 ],
 "metadata": {
  "kernelspec": {
   "display_name": "Python 3",
   "language": "python",
   "name": "python3"
  },
  "language_info": {
   "codemirror_mode": {
    "name": "ipython",
    "version": 3
   },
   "file_extension": ".py",
   "mimetype": "text/x-python",
   "name": "python",
   "nbconvert_exporter": "python",
   "pygments_lexer": "ipython3",
   "version": "3.6.8"
  }
 },
 "nbformat": 4,
 "nbformat_minor": 2
}
