{
 "cells": [
  {
   "cell_type": "code",
   "execution_count": 3,
   "metadata": {},
   "outputs": [
    {
     "name": "stdout",
     "output_type": "stream",
     "text": [
      "The autoreload extension is already loaded. To reload it, use:\n",
      "  %reload_ext autoreload\n"
     ]
    }
   ],
   "source": [
    "# Some standard import statements that are nice for Jupyter\n",
    "\n",
    "import sys\n",
    "import os\n",
    "import logging\n",
    "\n",
    "import numpy as np\n",
    "\n",
    "from scipy.optimize import curve_fit\n",
    "\n",
    "%load_ext autoreload\n",
    "%autoreload 2\n",
    "\n",
    "import matplotlib as mpl\n",
    "import matplotlib.pyplot as plt\n",
    "%matplotlib inline\n",
    "%config InlineBackend.figure_format = 'retina'\n",
    "plt.rcParams['figure.dpi'] = 200\n",
    "\n",
    "import time\n",
    "\n",
    "import json\n",
    "\n",
    "logging.basicConfig(level=logging.INFO, stream=sys.stdout)\n",
    "\n",
    "# importing my model functions for analysis\n",
    "from psi_transmission.model import *"
   ]
  },
  {
   "cell_type": "code",
   "execution_count": 4,
   "metadata": {},
   "outputs": [],
   "source": [
    "# importing various data sets\n",
    "\n",
    "norm_data_list, jpsu_data_list, jpti_data_list, disk_data_list, gd01_data_list, gd03_data_list, epsu_data_list = load_all_data()"
   ]
  },
  {
   "cell_type": "markdown",
   "metadata": {},
   "source": [
    "# Transmission\n",
    "\n",
    "There is perhaps more room for nuance with the choice of runs used in transmission measurements. Possible approaches:\n",
    "\n",
    "- Compare the counts for each specific guide, and run type to those of the average, source-performance-normalized, run performed in the normalization configuration\n",
    "- Compare the counts for each specific guide, and run type to those from normalization runs that occurred directly before or after the runs of interest. Here we would still use the source-performance-normalization, however the proximity in time between the compared runs might help with mitigating any of the unknown/unquantified systematic effects in the source"
   ]
  },
  {
   "cell_type": "code",
   "execution_count": null,
   "metadata": {},
   "outputs": [],
   "source": []
  },
  {
   "cell_type": "code",
   "execution_count": null,
   "metadata": {},
   "outputs": [],
   "source": [
    "# !!! should be passed two data lists, the normalization (shot, 5, 20, 100), and the guide to measure (shot, 5, 20, 100)\n",
    "\n",
    "def transmission(guide_data_list, norm_data_list = norm_data_list):\n",
    "    \n",
    "    # initialize an array to hold the transmission results for each run type\n",
    "    transmission_results = np.zeros((4,3))\n",
    "\n",
    "    for i in range(0, 4):\n",
    "        \n",
    "        # !!! compute the standard mean, just put this below?\n",
    "#         storage_results[i,0] = data_list[i][0,1]\n",
    "#         storage_results[i,1] = np.mean(data_list[i][:,2])\n",
    "#         storage_results[i,2] = np.std(data_list[i][:,2])\n",
    "        \n",
    "        transmission_results[i,0] = guide_data_list[i][0,1]\n",
    "        transmission_results[i,1] = guide_data_\n",
    "    # for each list, calculate the average integrated counts after storage\n",
    "    # compute the ratio between the normalization and guided counts\n",
    "    # return 3 transmission ratios, one for each of the three storage times. \n",
    "    \n",
    "\n",
    "        for j in range(0, np.shape(data_n)[1]):\n",
    "\n",
    "            # sum all the counts for the normalization and guide configurations, separately\n",
    "            norm_sum = norm_sum + np.sum(data_n[int_times[i]:-1,j])\n",
    "            guide_sum = guide_sum + np.sum(data_g[int_times[i]:-1,j])\n",
    "            \n",
    "        # divide by the number of runs to get the average\n",
    "        norm_sum  = norm_sum  / np.shape(data_n)[1]\n",
    "        guide_sum = guide_sum / np.shape(data_n)[1]\n",
    "                       \n",
    "        # log the ratio to the transmission result array\n",
    "        result[i] = guide_sum / norm_sum\n",
    "\n",
    "        # the statistical uncertainty is calculated\n",
    "        # !!!\n",
    "        \n",
    "    plt.scatter(storage_times, result * 100)\n",
    "    plt.xlabel('Storage Time [s]')\n",
    "    plt.ylabel('Transmission [% / m]')\n",
    "    \n",
    "    return transmission_results"
   ]
  }
 ],
 "metadata": {
  "kernelspec": {
   "display_name": "Python 3",
   "language": "python",
   "name": "python3"
  },
  "language_info": {
   "codemirror_mode": {
    "name": "ipython",
    "version": 3
   },
   "file_extension": ".py",
   "mimetype": "text/x-python",
   "name": "python",
   "nbconvert_exporter": "python",
   "pygments_lexer": "ipython3",
   "version": "3.6.8"
  }
 },
 "nbformat": 4,
 "nbformat_minor": 2
}
