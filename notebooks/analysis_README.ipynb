{
 "cells": [
  {
   "cell_type": "markdown",
   "metadata": {},
   "source": [
    "# Analysis README\n",
    "\n",
    "To do:\n",
    "- document data cutting\n",
    "- explain elog and data structure\n",
    "- graft all of Edgard's readme and the various emails into this ipynb\n",
    "- everything that someone might encounter (as simple as 'cleaning the area') should be here.\n",
    "- maybe a fully commented PDF of the elog?\n",
    "- simplify this repository and figure out the whole environment business. maybe drop the package functionality for now and instead just use a couple of notebooks?"
   ]
  },
  {
   "cell_type": "code",
   "execution_count": null,
   "metadata": {},
   "outputs": [],
   "source": []
  }
 ],
 "metadata": {
  "kernelspec": {
   "display_name": "Python 3",
   "language": "python",
   "name": "python3"
  },
  "language_info": {
   "codemirror_mode": {
    "name": "ipython",
    "version": 3
   },
   "file_extension": ".py",
   "mimetype": "text/x-python",
   "name": "python",
   "nbconvert_exporter": "python",
   "pygments_lexer": "ipython3",
   "version": "3.6.8"
  }
 },
 "nbformat": 4,
 "nbformat_minor": 2
}
