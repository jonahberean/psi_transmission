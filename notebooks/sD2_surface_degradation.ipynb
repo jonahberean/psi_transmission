{
 "cells": [
  {
   "cell_type": "code",
   "execution_count": 7,
   "metadata": {},
   "outputs": [
    {
     "name": "stdout",
     "output_type": "stream",
     "text": [
      "The autoreload extension is already loaded. To reload it, use:\n",
      "  %reload_ext autoreload\n"
     ]
    }
   ],
   "source": [
    "# Some standard import statements\n",
    "\n",
    "import sys\n",
    "import os\n",
    "import logging\n",
    "\n",
    "import numpy as np\n",
    "\n",
    "from scipy.optimize import curve_fit\n",
    "\n",
    "from IPython import get_ipython\n",
    "ipython = get_ipython()\n",
    "ipython.magic('load_ext autoreload')\n",
    "ipython.magic('autoreload 2')\n",
    "ipython.magic('matplotlib inline')\n",
    "\n",
    "import matplotlib as mpl\n",
    "import matplotlib.pyplot as plt\n",
    "plt.rcParams['figure.dpi'] = 200\n",
    "\n",
    "import time\n",
    "\n",
    "logging.basicConfig(level=logging.INFO, stream=sys.stdout)\n",
    "\n",
    "from ipynb.fs.defs.p_beam_fluctuation import *\n",
    "\n",
    "# importing my model functions for analysis\n",
    "from psi_transmission.model import *"
   ]
  },
  {
   "cell_type": "markdown",
   "metadata": {},
   "source": [
    "# sD2 Surface Degradation - Absolute UCN Detection over Time\n",
    "\n",
    "In [this article](https://link.springer.com/article/10.1140/epja/i2018-12594-2), a mechanism is suggested for the observed degradation of the absolute UCN detection rate in measurements at PSI. \n",
    "\n",
    "(!!! review and q's)\n",
    "\n",
    "(!!! was their model even linear?)"
   ]
  },
  {
   "cell_type": "markdown",
   "metadata": {},
   "source": [
    "## Measuring Total UCN Counts per Nominal Run; by Pre-Storage Time\n",
    "\n",
    "By 'nominal' I refer to the guide-less configuration, pictured below (from Edgard's slides).\n",
    "\n",
    "![](../misc/nominal_configuration.png)\n",
    "![](jonahberean/psi_transmission/misc/nominal_configuration.png)\n",
    "\n",
    "In this section, only the runs carried out in this configuration are used. Transmission ratios were found by Edgard to be ~0.5-0.9 for the various guides, and these measurements would need to be used in a re-normalization of the absolute counts before any comparison with nominal configuration runs.\n",
    "\n",
    "(!!!)\n",
    "\n",
    "(!!! It might be useful to plot each pre-storage time data set separately, to get a better sense of the error bar v. spread of data picture. \n",
    "\n",
    "The error bar v. spread of the data suggests that there are systematic effects at play here that are not being properly accounted for with this simplistic linear model of sD2 degradation."
   ]
  },
  {
   "cell_type": "markdown",
   "metadata": {},
   "source": [
    "## Comparing UCN Count Degradation Rates for Different Pre-Storage Times\n",
    "\n",
    "In order to compare the degradation rates - the slopes from the most recent figure - the rates must be re-scaled by the absolute count rates at time $t = 0$, the beginning of the experiment. \n",
    "\n",
    "(!!!)\n",
    "\n",
    "Here the fit function is a simple linear model, \n",
    "\n",
    "$$N(t) = N_0 - \\gamma_{sD_2} t$$\n",
    "\n",
    "where $N_0$ would be the extrapolated number of counts for a hypothetical storage time at $t=0$. Here we define the $t=0$ time to be the start of the proton beam current measurements, which is appropriate for the comparisons to be made in this notebook. The parameter $\\gamma_{sD_2}$ is the loss rate of absolute UCN counts over time. Here the lowercase $\\gamma$ is used to differentiate this rate from the characteristic decay rate $\\Gamma$ of a single UCN.\n",
    "\n",
    "The four independent fits shown above are used to normalize every run of the matching pre-storage time, in all configurations."
   ]
  },
  {
   "cell_type": "markdown",
   "metadata": {},
   "source": [
    "## Using the Spread of Re-Scaled Loss Rates as an Error Bar\n",
    "\n",
    "Alternatively, the spread of these re-scaled loss rate values could be used to define an error bar on the normalization itself. If this is done, a pre-storage lifetime measurement using nominal configuration data yields the following plot.\n",
    "\n",
    "(!!!)\n",
    "\n",
    "(Do the error bars better represent the spread of the data?)"
   ]
  },
  {
   "cell_type": "markdown",
   "metadata": {},
   "source": [
    "## Time (therefore Energy?) Bin - Absolute Dependent UCN Detection \n",
    "\n",
    "Perhaps a more granular view is achieved from an analysis that looks at how specific time bins perform over time."
   ]
  },
  {
   "cell_type": "markdown",
   "metadata": {},
   "source": [
    "## Analysis of the Monitor Detector Counts\n",
    "\n",
    "Thus far we have only reviewed the data from the main detector, but we could also look at the data from the monitor detector that is attached to the source vessel. \n",
    "\n",
    "(!!! heights from the EPJ paper, do we see the correct relative count rate magnitudes between the monitor and main on a direct shot?)\n",
    "\n",
    "(!!! explanatory schematic)\n",
    "\n",
    "(!!! could the cyclotron beam timing data tell us something about what happened during the low count period of the monitor detector? If Bernhard is right, then that mis-synchronization should be observable)\n",
    "\n",
    "(!!! multiple fits)"
   ]
  },
  {
   "cell_type": "markdown",
   "metadata": {},
   "source": [
    "## Conclusions"
   ]
  },
  {
   "cell_type": "code",
   "execution_count": null,
   "metadata": {},
   "outputs": [],
   "source": []
  },
  {
   "cell_type": "code",
   "execution_count": null,
   "metadata": {},
   "outputs": [],
   "source": []
  }
 ],
 "metadata": {
  "kernelspec": {
   "display_name": "Python 3",
   "language": "python",
   "name": "python3"
  },
  "language_info": {
   "codemirror_mode": {
    "name": "ipython",
    "version": 3
   },
   "file_extension": ".py",
   "mimetype": "text/x-python",
   "name": "python",
   "nbconvert_exporter": "python",
   "pygments_lexer": "ipython3",
   "version": "3.6.8"
  }
 },
 "nbformat": 4,
 "nbformat_minor": 2
}
